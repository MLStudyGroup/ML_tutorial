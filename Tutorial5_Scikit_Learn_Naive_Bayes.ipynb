{
 "cells": [
  {
   "cell_type": "code",
   "execution_count": 1,
   "metadata": {},
   "outputs": [
    {
     "name": "stdout",
     "output_type": "stream",
     "text": [
      "(150, 4)\n",
      "---------------\n",
      "(150,)\n",
      "Number of mislabeled points out of a total 150 points : 6\n"
     ]
    }
   ],
   "source": [
    "from sklearn import datasets\n",
    "from sklearn.naive_bayes import GaussianNB\n",
    "\n",
    "iris = datasets.load_iris()\n",
    "print iris.data.shape\n",
    "print '---------------'\n",
    "print iris.target.shape\n",
    "\n",
    "gnb = GaussianNB()\n",
    "y_pred = gnb.fit(iris.data, iris.target).predict(iris.data)\n",
    "def missingRate(testSet, predict): \n",
    "    print \"Number of mislabeled points out of a total %d points : %d\" % \\\n",
    "    (len(testSet.data),(testSet.target != predict).sum())\n",
    "    \n",
    "missingRate(iris, y_pred)"
   ]
  },
  {
   "cell_type": "code",
   "execution_count": 2,
   "metadata": {},
   "outputs": [
    {
     "name": "stdout",
     "output_type": "stream",
     "text": [
      "['alt.atheism',\n",
      " 'comp.graphics',\n",
      " 'comp.os.ms-windows.misc',\n",
      " 'comp.sys.ibm.pc.hardware',\n",
      " 'comp.sys.mac.hardware',\n",
      " 'comp.windows.x',\n",
      " 'misc.forsale',\n",
      " 'rec.autos',\n",
      " 'rec.motorcycles',\n",
      " 'rec.sport.baseball',\n",
      " 'rec.sport.hockey',\n",
      " 'sci.crypt',\n",
      " 'sci.electronics',\n",
      " 'sci.med',\n",
      " 'sci.space',\n",
      " 'soc.religion.christian',\n",
      " 'talk.politics.guns',\n",
      " 'talk.politics.mideast',\n",
      " 'talk.politics.misc',\n",
      " 'talk.religion.misc']\n",
      "----------------------\n",
      "From: dfo@vttoulu.tko.vtt.fi (Foxvog Douglas)\n",
      "Subject: Re: Rewording the Second Amendment (ideas)\n",
      "Organization: VTT\n",
      "Lines: 58\n",
      "\n",
      "In article <1r1eu1$4t@transfer.stratus.com> cdt@sw.stratus.com (C. D. Tavares) writes:\n",
      ">In article <1993Apr20.083057.16899@ousrvr.oulu.fi>, dfo@vttoulu.tko.vtt.fi (Foxvog Douglas) writes:\n",
      ">> In article <1qv87v$4j3@transfer.stratus.com> cdt@sw.stratus.com (C. D. Tavares) writes:\n",
      ">> >In article <C5n3GI.F8F@ulowell.ulowell.edu>, jrutledg@cs.ulowell.edu (John Lawrence Rutledge) writes:\n",
      ">\n",
      ">> >> The massive destructive power of many modern weapons, makes the\n",
      ">> >> cost of an accidental or crimial usage of these weapons to great.\n",
      ">> >> The weapons of mass destruction need to be in the control of\n",
      ">> >> the government only.  Individual access would result in the\n",
      ">> >> needless deaths of millions.  This makes the right of the people\n",
      ">> >> to keep and bear many modern weapons non-existant.\n",
      "\n",
      ">> >Thanks for stating where you're coming from.  Needless to say, I\n",
      ">> >disagree on every count.\n",
      "\n",
      ">> You believe that individuals should have the right to own weapons of\n",
      ">> mass destruction?  I find it hard to believe that you would support a \n",
      ">> neighbor's right to keep nuclear weapons, biological weapons, and nerve\n",
      ">> gas on his/her property.  \n",
      "\n",
      ">> If we cannot even agree on keeping weapons of mass destruction out of\n",
      ">> the hands of individuals, can there be any hope for us?\n",
      "\n",
      ">I don't sign any blank checks.\n",
      "\n",
      "Of course.  The term must be rigidly defined in any bill.\n",
      "\n",
      ">When Doug Foxvog says \"weapons of mass destruction,\" he means CBW and\n",
      ">nukes.  When Sarah Brady says \"weapons of mass destruction\" she means\n",
      ">Street Sweeper shotguns and semi-automatic SKS rifles.  \n",
      "\n",
      "I doubt she uses this term for that.  You are using a quote allegedly\n",
      "from her, can you back it up?\n",
      "\n",
      ">When John\n",
      ">Lawrence Rutledge says \"weapons of mass destruction,\" and then immediately\n",
      ">follows it with:\n",
      "\n",
      ">>> The US has thousands of people killed each year by handguns,\n",
      ">>> this number can easily be reduced by putting reasonable restrictions\n",
      ">>> on them.\n",
      "\n",
      ">...what does Rutledge mean by the term?\n",
      "\n",
      "I read the article as presenting first an argument about weapons of mass\n",
      "destruction (as commonly understood) and then switching to other topics.\n",
      "The first point evidently was to show that not all weapons should be\n",
      "allowed, and then the later analysis was, given this understanding, to\n",
      "consider another class.\n",
      "\n",
      ">cdt@rocket.sw.stratus.com   --If you believe that I speak for my company,\n",
      ">OR cdt@vos.stratus.com        write today for my special Investors' Packet...\n",
      "\n",
      "\n",
      "\n",
      "-- \n",
      "doug foxvog\n",
      "douglas.foxvog@vtt.fi\n",
      "\n",
      "----------------------\n",
      "(2034, 33814)\n"
     ]
    }
   ],
   "source": [
    "from sklearn.datasets import fetch_20newsgroups\n",
    "from sklearn.datasets import fetch_20newsgroups_vectorized\n",
    "newsgroupsTrain = fetch_20newsgroups(subset = 'train')\n",
    "\n",
    "from pprint import pprint\n",
    "pprint(list(newsgroupsTrain.target_names))\n",
    "print '----------------------'\n",
    "print newsgroupsTrain.data[5]\n",
    "print '----------------------'\n",
    "\n",
    "from sklearn.feature_extraction.text import TfidfVectorizer\n",
    "categories = ['alt.atheism', 'talk.religion.misc', 'comp.graphics', 'sci.space']\n",
    "newsgroupsTrain = fetch_20newsgroups(subset='train', categories=categories)\n",
    "\n",
    "vectorizer = TfidfVectorizer(stop_words='english')\n",
    "vectors = vectorizer.fit_transform(newsgroupsTrain.data)\n",
    "print vectors.shape\n",
    "# print vectors.nnz"
   ]
  },
  {
   "cell_type": "code",
   "execution_count": 3,
   "metadata": {},
   "outputs": [
    {
     "name": "stdout",
     "output_type": "stream",
     "text": [
      "f1 score: 0.883763\n",
      "precision score: 0.887238\n",
      "recall score: 0.881554\n",
      "Number of mislabeled points out of a total 1353 points : 143\n",
      "--------------------------\n",
      "alt.atheism: sgi livesey atheists writes people caltech com god keith edu\n",
      "comp.graphics: organization thanks files subject com image lines university edu graphics\n",
      "sci.space: toronto moon gov com alaska access henry nasa edu space\n",
      "talk.religion.misc: article writes kent people christian jesus sandvik edu com god\n"
     ]
    }
   ],
   "source": [
    "from sklearn.naive_bayes import MultinomialNB\n",
    "from sklearn import metrics\n",
    "\n",
    "newsgroupsTest = fetch_20newsgroups(subset='test',\n",
    "                                     categories = categories)\n",
    "vectorsTest = vectorizer.transform(newsgroupsTest.data)\n",
    "clf = MultinomialNB(alpha=.01)\n",
    "clf.fit(vectors, newsgroupsTrain.target)\n",
    "pred = clf.predict(vectorsTest)\n",
    "# print pred[:50]\n",
    "print 'f1 score: %f' % metrics.f1_score(newsgroupsTest.target, pred, average='macro')\n",
    "print 'precision score: %f' % metrics.precision_score(newsgroupsTest.target, pred, average='macro')\n",
    "print 'recall score: %f' % metrics.recall_score(newsgroupsTest.target, pred, average='macro')\n",
    "missingRate(newsgroupsTest, pred)\n",
    "\n",
    "import numpy as np\n",
    "def show_top10(classifier, vectorizer, categories):\n",
    "    feature_names = np.asarray(vectorizer.get_feature_names())\n",
    "    for i, category in enumerate(categories):\n",
    "        top10 = np.argsort(classifier.coef_[i])[-10:]\n",
    "        print(\"%s: %s\" % (category, \" \".join(feature_names[top10])))\n",
    "print '--------------------------'\n",
    "show_top10(clf, vectorizer, newsgroupsTrain.target_names)"
   ]
  },
  {
   "cell_type": "code",
   "execution_count": 4,
   "metadata": {},
   "outputs": [
    {
     "name": "stdout",
     "output_type": "stream",
     "text": [
      "f1 score: 0.766081\n",
      "precision score: 0.769694\n",
      "recall score: 0.764798\n",
      "Number of mislabeled points out of a total 1353 points : 289\n",
      "--------------------------\n",
      "alt.atheism: islam does religion atheism say just think don people god\n",
      "comp.graphics: windows does looking program know file image files thanks graphics\n",
      "sci.space: earth think shuttle orbit moon just launch like nasa space\n",
      "talk.religion.misc: objective think just bible don christians christian people jesus god\n"
     ]
    }
   ],
   "source": [
    "newsgroupsTrain = fetch_20newsgroups(subset='train',\n",
    "                                      remove=('headers', 'footers', 'quotes'),\n",
    "                                      categories=categories)\n",
    "newsgroupsTest = fetch_20newsgroups(subset='test',\n",
    "                                      remove=('headers', 'footers', 'quotes'),\n",
    "                                      categories = categories)\n",
    "vectors = vectorizer.fit_transform(newsgroupsTrain.data)\n",
    "clf = MultinomialNB(alpha=.01)\n",
    "clf.fit(vectors, newsgroupsTrain.target)\n",
    "vectorsTest = vectorizer.transform(newsgroupsTest.data)\n",
    "pred = clf.predict(vectorsTest)\n",
    "print 'f1 score: %f' % metrics.f1_score(newsgroupsTest.target, pred, average='macro')\n",
    "print 'precision score: %f' % metrics.precision_score(newsgroupsTest.target, pred, average='macro')\n",
    "print 'recall score: %f' % metrics.recall_score(newsgroupsTest.target, pred, average='macro')\n",
    "\n",
    "missingRate(newsgroupsTest, pred)\n",
    "print '--------------------------'\n",
    "show_top10(clf, vectorizer, newsgroupsTrain.target_names)"
   ]
  }
 ],
 "metadata": {
  "kernelspec": {
   "display_name": "Python 2",
   "language": "python",
   "name": "python2"
  },
  "language_info": {
   "codemirror_mode": {
    "name": "ipython",
    "version": 2
   },
   "file_extension": ".py",
   "mimetype": "text/x-python",
   "name": "python",
   "nbconvert_exporter": "python",
   "pygments_lexer": "ipython2",
   "version": "2.7.13"
  }
 },
 "nbformat": 4,
 "nbformat_minor": 2
}

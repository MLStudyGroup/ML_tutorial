{
 "cells": [
  {
   "cell_type": "code",
   "execution_count": 8,
   "metadata": {},
   "outputs": [
    {
     "name": "stdout",
     "output_type": "stream",
     "text": [
      "2373 1579\n",
      "**********************\n",
      "-*-----\n",
      "\n",
      "\n",
      "I hope Gordon Banks did not mean to imply that notions such as\n",
      "hard-to-see candida infections causing various problems should not\n",
      "be investigated.  Many researchers have made breakthroughs by \n",
      "figuring out how to investigate things that were previously thought\n",
      "\"virtually impossible to test for.\"\n",
      "\n",
      "Indeed, I would be surprised if \"candida overbloom\" were such a\n",
      "phenomena.  I would think that candida would produce signature\n",
      "byproducts whose measure would then set a lower bound on the \n",
      "extent of recent infection.  I realize this might get quite \n",
      "tricky and difficult, probably expensive, and likely inconvenient\n",
      "or uncomfortable to the subjects, but that is not the same as \n",
      "\"virtually impossible.\"\n",
      "**********************\n"
     ]
    }
   ],
   "source": [
    "from sklearn.datasets import fetch_20newsgroups\n",
    "from sklearn.feature_extraction.text import TfidfVectorizer\n",
    "from sklearn.feature_extraction.text import CountVectorizer\n",
    "from sklearn.naive_bayes import MultinomialNB, GaussianNB\n",
    "\n",
    "categories = ['sci.electronics', 'sci.crypt', 'sci.med', 'sci.space']\n",
    "newsgroupsTrain = fetch_20newsgroups(subset='train', remove=('headers', 'footers', 'quotes'), categories=categories)\n",
    "newsgroupsTest = fetch_20newsgroups(subset='test', remove=('headers', 'footers', 'quotes'), categories=categories)\n",
    "\n",
    "print (len(newsgroupsTrain.data), len(newsgroupsTest.data))\n",
    "\n",
    "print '**********************'\n",
    "print newsgroupsTrain.data[10]\n",
    "print '**********************'"
   ]
  },
  {
   "cell_type": "code",
   "execution_count": 9,
   "metadata": {},
   "outputs": [
    {
     "name": "stdout",
     "output_type": "stream",
     "text": [
      "1 loop, best of 3: 781 ms per loop\n"
     ]
    },
    {
     "data": {
      "text/plain": [
       "0.84547181760607981"
      ]
     },
     "execution_count": 9,
     "metadata": {},
     "output_type": "execute_result"
    }
   ],
   "source": [
    "from sklearn.pipeline import Pipeline\n",
    "from sklearn.feature_extraction.text import TfidfTransformer\n",
    "from sklearn.linear_model import SGDClassifier\n",
    "\n",
    "h_pipeline = Pipeline([\n",
    "#     ('vec', HashingVectorizer(stop_words='english', non_negative = True)),\n",
    "#     ('tran', TfidfTransformer()),\n",
    "    ('vec', TfidfVectorizer(stop_words='english')),\n",
    "    ('clf', MultinomialNB(alpha=.1)),\n",
    "#     ('clf', SGDClassifier(loss='hinge', penalty='l2', alpha=1e-3, random_state=42)),\n",
    "])\n",
    "\n",
    "%timeit h_pipeline.fit(newsgroupsTrain.data, newsgroupsTrain.target)\n",
    "h_pipeline.score(newsgroupsTest.data, newsgroupsTest.target)"
   ]
  },
  {
   "cell_type": "code",
   "execution_count": 10,
   "metadata": {},
   "outputs": [
    {
     "name": "stdout",
     "output_type": "stream",
     "text": [
      "                 precision    recall  f1-score   support\n",
      "\n",
      "      sci.crypt       0.73      0.92      0.81       396\n",
      "sci.electronics       0.88      0.75      0.81       393\n",
      "        sci.med       0.92      0.86      0.89       396\n",
      "      sci.space       0.90      0.86      0.88       394\n",
      "\n",
      "    avg / total       0.86      0.85      0.85      1579\n",
      "\n"
     ]
    }
   ],
   "source": [
    "from sklearn import metrics\n",
    "predicted = h_pipeline.predict(newsgroupsTest.data)\n",
    "print(metrics.classification_report(newsgroupsTest.target, predicted, target_names=newsgroupsTest.target_names))"
   ]
  },
  {
   "cell_type": "code",
   "execution_count": 11,
   "metadata": {},
   "outputs": [
    {
     "name": "stdout",
     "output_type": "stream",
     "text": [
      "--------------------------\n",
      "sci.crypt: just use people nsa keys government chip clipper encryption key\n",
      "sci.electronics: don good used circuit thanks know does power like use\n",
      "sci.med: shameful skepticism chastity n3jxp banks pitt geb gordon edu msg\n",
      "sci.space: shuttle think earth just orbit moon launch like nasa space\n"
     ]
    }
   ],
   "source": [
    "import numpy as np\n",
    "def show_top10(classifier, vectorizer, categories):\n",
    "    feature_names = np.asarray(vectorizer.get_feature_names())\n",
    "    for i, category in enumerate(categories):\n",
    "        top10 = np.argsort(classifier.coef_[i])[-10:]\n",
    "        print(\"%s: %s\" % (category, \" \".join(feature_names[top10])))\n",
    "print '--------------------------'\n",
    "params=  h_pipeline.get_params()\n",
    "show_top10(params['clf'], params['vec'], newsgroupsTrain.target_names)"
   ]
  }
 ],
 "metadata": {
  "kernelspec": {
   "display_name": "Python 2",
   "language": "python",
   "name": "python2"
  },
  "language_info": {
   "codemirror_mode": {
    "name": "ipython",
    "version": 2
   },
   "file_extension": ".py",
   "mimetype": "text/x-python",
   "name": "python",
   "nbconvert_exporter": "python",
   "pygments_lexer": "ipython2",
   "version": "2.7.13"
  }
 },
 "nbformat": 4,
 "nbformat_minor": 2
}

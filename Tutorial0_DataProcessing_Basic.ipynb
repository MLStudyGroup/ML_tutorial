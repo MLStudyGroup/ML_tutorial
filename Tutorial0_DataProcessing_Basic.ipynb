{
 "cells": [
  {
   "cell_type": "markdown",
   "metadata": {},
   "source": [
    "##  Numpy基本操作"
   ]
  },
  {
   "cell_type": "code",
   "execution_count": 1,
   "metadata": {
    "collapsed": false
   },
   "outputs": [
    {
     "name": "stdout",
     "output_type": "stream",
     "text": [
      "[1 2 3 4]\n",
      "(4,)\n",
      "int64\n",
      "<type 'numpy.ndarray'>\n"
     ]
    }
   ],
   "source": [
    "import numpy as np\n",
    "\n",
    "A = np.array([1, 2, 3, 4])\n",
    "print A\n",
    "print A.shape\n",
    "print A.dtype\n",
    "print type(A)"
   ]
  },
  {
   "cell_type": "code",
   "execution_count": 2,
   "metadata": {
    "collapsed": false
   },
   "outputs": [
    {
     "name": "stdout",
     "output_type": "stream",
     "text": [
      "[[ 1.1  2.1  3.1]\n",
      " [ 4.1  5.1  6.1]]\n",
      "(2, 3)\n",
      "float64\n"
     ]
    }
   ],
   "source": [
    "B = np.array([\n",
    "    [1.1, 2.1, 3.1],\n",
    "    [4.1, 5.1, 6.1]\n",
    "])\n",
    "print B\n",
    "print B.shape\n",
    "print B.dtype"
   ]
  },
  {
   "cell_type": "code",
   "execution_count": 3,
   "metadata": {
    "collapsed": false
   },
   "outputs": [
    {
     "name": "stdout",
     "output_type": "stream",
     "text": [
      "[0 1 2 3]\n",
      "[[0 1]\n",
      " [2 3]]\n",
      "[[ 0.  0.]\n",
      " [ 0.  0.]]\n",
      "[[[0 1]\n",
      "  [2 3]]\n",
      "\n",
      " [[4 5]\n",
      "  [6 7]]]\n"
     ]
    }
   ],
   "source": [
    "print np.arange(4)\n",
    "print np.arange(4).reshape(2, 2)\n",
    "print np.zeros(4).reshape(2, 2)\n",
    "print np.arange(8).reshape(2, 2, 2)"
   ]
  },
  {
   "cell_type": "code",
   "execution_count": 4,
   "metadata": {
    "collapsed": false
   },
   "outputs": [
    {
     "name": "stdout",
     "output_type": "stream",
     "text": [
      "[[2 4]\n",
      " [6 8]]\n",
      "[[ 0.  2.]\n",
      " [ 3.  4.]]\n",
      "[[ 2.  3.]\n",
      " [ 4.  7.]]\n"
     ]
    }
   ],
   "source": [
    "A = np.arange(start=1, step=1, stop=5).reshape(2, 2)\n",
    "B = np.ones(4).reshape(2, 2)\n",
    "B[0][0] = 0\n",
    "\n",
    "print A * 2\n",
    "print A * B\n",
    "print A.dot(B)"
   ]
  },
  {
   "cell_type": "code",
   "execution_count": 5,
   "metadata": {
    "collapsed": false
   },
   "outputs": [
    {
     "name": "stdout",
     "output_type": "stream",
     "text": [
      "[[ 0.75735849]\n",
      " [ 0.3555381 ]\n",
      " [ 0.70428799]]\n",
      "[[85 76]\n",
      " [90 60]]\n",
      "311 60 90 77.75 11.4099737072 2\n",
      "[175 136] [76 60]\n",
      "[[ 9.21954446  8.71779789]\n",
      " [ 9.48683298  7.74596669]]\n",
      "[85 76 90 60]\n",
      "[[76 85]\n",
      " [60 90]]\n",
      "[76 90]\n"
     ]
    }
   ],
   "source": [
    "A = np.random.random((3, 1))\n",
    "print A\n",
    "A = np.random.randint(low=50, high=100, size=(2, 2))\n",
    "print A\n",
    "print A.sum(), A.min(), A.max(), A.mean(), A.std(), A.argmax()\n",
    "print A.sum(axis=0), A.min(axis=1)\n",
    "print np.sqrt(A)\n",
    "print A.flatten()\n",
    "A.sort()\n",
    "print A\n",
    "print A.diagonal()"
   ]
  },
  {
   "cell_type": "code",
   "execution_count": 6,
   "metadata": {
    "collapsed": false
   },
   "outputs": [
    {
     "name": "stdout",
     "output_type": "stream",
     "text": [
      "[[ 1.  2.]\n",
      " [ 3.  4.]]\n",
      "[[ 1.  3.]\n",
      " [ 2.  4.]]\n",
      "[[ 1.  0.]\n",
      " [ 0.  1.]]\n",
      "[[ 1.  2.]\n",
      " [ 3.  4.]]\n",
      "[[-2.   1. ]\n",
      " [ 1.5 -0.5]]\n",
      "[[-2.   1. ]\n",
      " [ 1.5 -0.5]]\n",
      "5.0\n"
     ]
    }
   ],
   "source": [
    "A = np.array([1, 2, 3, 4], dtype='float64').reshape(2, 2)\n",
    "print A\n",
    "print A.T\n",
    "I = np.eye(2)\n",
    "print I\n",
    "print A.dot(I)\n",
    "A_inv = np.linalg.inv(A)\n",
    "print A_inv\n",
    "print np.linalg.solve(A, I)\n",
    "print A.trace()"
   ]
  },
  {
   "cell_type": "code",
   "execution_count": 7,
   "metadata": {
    "collapsed": false
   },
   "outputs": [
    {
     "name": "stdout",
     "output_type": "stream",
     "text": [
      "[[8 8]\n",
      " [7 7]]\n",
      "[8 8 7 7]\n"
     ]
    }
   ],
   "source": [
    "x = np.array([8, 8])\n",
    "y = np.array([7 ,7])\n",
    "print np.vstack([x, y])\n",
    "print np.hstack([x, y])\n",
    "# More details : https://docs.scipy.org/doc/numpy/reference/routines.html"
   ]
  },
  {
   "cell_type": "markdown",
   "metadata": {},
   "source": [
    "## Pandas基本操作"
   ]
  },
  {
   "cell_type": "code",
   "execution_count": 8,
   "metadata": {
    "collapsed": false,
    "scrolled": true
   },
   "outputs": [
    {
     "name": "stdout",
     "output_type": "stream",
     "text": [
      "0    0\n",
      "1    1\n",
      "2    2\n",
      "3    3\n",
      "4    4\n",
      "5    5\n",
      "6    6\n",
      "7    7\n",
      "8    8\n",
      "9    9\n",
      "dtype: int64\n",
      "DatetimeIndex(['2017-06-01', '2017-06-02', '2017-06-03', '2017-06-04',\n",
      "               '2017-06-05', '2017-06-06', '2017-06-07'],\n",
      "              dtype='datetime64[ns]', freq='D')\n",
      "    A   B   C   D   E\n",
      "0   0   1   2   3   4\n",
      "1   5   6   7   8   9\n",
      "2  10  11  12  13  14\n",
      "3  15  16  17  18  19\n",
      "4  20  21  22  23  24\n"
     ]
    }
   ],
   "source": [
    "import pandas as pd\n",
    "\n",
    "print pd.Series(np.arange(10))\n",
    "print pd.date_range('2017-06-01', periods=7)\n",
    "df = pd.DataFrame(np.arange(25).reshape(5,5), columns=['A', 'B', 'C', 'D', 'E'])\n",
    "print df"
   ]
  },
  {
   "cell_type": "code",
   "execution_count": 9,
   "metadata": {
    "collapsed": false
   },
   "outputs": [
    {
     "name": "stdout",
     "output_type": "stream",
     "text": [
      "    A   C\n",
      "0   0   2\n",
      "1   5   7\n",
      "2  10  12\n",
      "3  15  17\n",
      "4  20  22\n",
      "    A   B   C   D   E\n",
      "0   2   1   0   3   4\n",
      "1   7   6   5   8   9\n",
      "2  12  11  10  13  14\n",
      "3  17  16  15  18  19\n",
      "4  22  21  20  23  24\n",
      "    A   B   C   D   E\n",
      "2  12  11  10  13  14\n",
      "3  17  16  15  18  19\n",
      "4  22  21  20  23  24\n",
      "    A   B   C   D   E\n",
      "2  12  11  10  13  14\n"
     ]
    }
   ],
   "source": [
    "print df[['A','C']]\n",
    "df[['A', 'C']] = df[['C', 'A']]\n",
    "print df\n",
    "print df[df['A'] > 10]\n",
    "print df[(df['A'] > 10) & (df['C'] < 15)]"
   ]
  },
  {
   "cell_type": "code",
   "execution_count": 10,
   "metadata": {
    "collapsed": false
   },
   "outputs": [
    {
     "data": {
      "text/html": [
       "<div>\n",
       "<table border=\"1\" class=\"dataframe\">\n",
       "  <thead>\n",
       "    <tr style=\"text-align: right;\">\n",
       "      <th></th>\n",
       "      <th>早餐</th>\n",
       "      <th>午餐</th>\n",
       "      <th>晚餐</th>\n",
       "    </tr>\n",
       "  </thead>\n",
       "  <tbody>\n",
       "    <tr>\n",
       "      <th>2017-06-01</th>\n",
       "      <td>211</td>\n",
       "      <td>211</td>\n",
       "      <td>194</td>\n",
       "    </tr>\n",
       "    <tr>\n",
       "      <th>2017-06-02</th>\n",
       "      <td>159</td>\n",
       "      <td>129</td>\n",
       "      <td>236</td>\n",
       "    </tr>\n",
       "    <tr>\n",
       "      <th>2017-06-03</th>\n",
       "      <td>263</td>\n",
       "      <td>223</td>\n",
       "      <td>166</td>\n",
       "    </tr>\n",
       "    <tr>\n",
       "      <th>2017-06-04</th>\n",
       "      <td>187</td>\n",
       "      <td>212</td>\n",
       "      <td>248</td>\n",
       "    </tr>\n",
       "    <tr>\n",
       "      <th>2017-06-05</th>\n",
       "      <td>265</td>\n",
       "      <td>180</td>\n",
       "      <td>232</td>\n",
       "    </tr>\n",
       "    <tr>\n",
       "      <th>2017-06-06</th>\n",
       "      <td>203</td>\n",
       "      <td>138</td>\n",
       "      <td>240</td>\n",
       "    </tr>\n",
       "    <tr>\n",
       "      <th>2017-06-07</th>\n",
       "      <td>204</td>\n",
       "      <td>226</td>\n",
       "      <td>137</td>\n",
       "    </tr>\n",
       "  </tbody>\n",
       "</table>\n",
       "</div>"
      ],
      "text/plain": [
       "             早餐   午餐   晚餐\n",
       "2017-06-01  211  211  194\n",
       "2017-06-02  159  129  236\n",
       "2017-06-03  263  223  166\n",
       "2017-06-04  187  212  248\n",
       "2017-06-05  265  180  232\n",
       "2017-06-06  203  138  240\n",
       "2017-06-07  204  226  137"
      ]
     },
     "metadata": {},
     "output_type": "display_data"
    }
   ],
   "source": [
    "from IPython.display import display\n",
    "\n",
    "dates = pd.date_range('2017-06-01', periods=7)\n",
    "df1 = pd.DataFrame(np.random.randint(low=100, high=300, size=(7, 3)), index=dates, columns=[u'早餐', u'午餐', u'晚餐'])\n",
    "display(df1)"
   ]
  },
  {
   "cell_type": "code",
   "execution_count": 11,
   "metadata": {
    "collapsed": false
   },
   "outputs": [
    {
     "data": {
      "text/html": [
       "<div>\n",
       "<table border=\"1\" class=\"dataframe\">\n",
       "  <thead>\n",
       "    <tr style=\"text-align: right;\">\n",
       "      <th></th>\n",
       "      <th>飲料</th>\n",
       "    </tr>\n",
       "  </thead>\n",
       "  <tbody>\n",
       "    <tr>\n",
       "      <th>2017-06-01</th>\n",
       "      <td>85.0</td>\n",
       "    </tr>\n",
       "    <tr>\n",
       "      <th>2017-06-02</th>\n",
       "      <td>47.0</td>\n",
       "    </tr>\n",
       "    <tr>\n",
       "      <th>2017-06-03</th>\n",
       "      <td>NaN</td>\n",
       "    </tr>\n",
       "    <tr>\n",
       "      <th>2017-06-04</th>\n",
       "      <td>NaN</td>\n",
       "    </tr>\n",
       "    <tr>\n",
       "      <th>2017-06-05</th>\n",
       "      <td>NaN</td>\n",
       "    </tr>\n",
       "    <tr>\n",
       "      <th>2017-06-06</th>\n",
       "      <td>61.0</td>\n",
       "    </tr>\n",
       "    <tr>\n",
       "      <th>2017-06-07</th>\n",
       "      <td>53.0</td>\n",
       "    </tr>\n",
       "  </tbody>\n",
       "</table>\n",
       "</div>"
      ],
      "text/plain": [
       "              飲料\n",
       "2017-06-01  85.0\n",
       "2017-06-02  47.0\n",
       "2017-06-03   NaN\n",
       "2017-06-04   NaN\n",
       "2017-06-05   NaN\n",
       "2017-06-06  61.0\n",
       "2017-06-07  53.0"
      ]
     },
     "metadata": {},
     "output_type": "display_data"
    },
    {
     "data": {
      "text/html": [
       "<div>\n",
       "<table border=\"1\" class=\"dataframe\">\n",
       "  <thead>\n",
       "    <tr style=\"text-align: right;\">\n",
       "      <th></th>\n",
       "      <th>早餐</th>\n",
       "      <th>午餐</th>\n",
       "      <th>晚餐</th>\n",
       "      <th>飲料</th>\n",
       "      <th>總和</th>\n",
       "    </tr>\n",
       "  </thead>\n",
       "  <tbody>\n",
       "    <tr>\n",
       "      <th>2017-06-01</th>\n",
       "      <td>211</td>\n",
       "      <td>211</td>\n",
       "      <td>194</td>\n",
       "      <td>85.0</td>\n",
       "      <td>701.0</td>\n",
       "    </tr>\n",
       "    <tr>\n",
       "      <th>2017-06-02</th>\n",
       "      <td>159</td>\n",
       "      <td>129</td>\n",
       "      <td>236</td>\n",
       "      <td>47.0</td>\n",
       "      <td>571.0</td>\n",
       "    </tr>\n",
       "    <tr>\n",
       "      <th>2017-06-03</th>\n",
       "      <td>263</td>\n",
       "      <td>223</td>\n",
       "      <td>166</td>\n",
       "      <td>NaN</td>\n",
       "      <td>652.0</td>\n",
       "    </tr>\n",
       "    <tr>\n",
       "      <th>2017-06-04</th>\n",
       "      <td>187</td>\n",
       "      <td>212</td>\n",
       "      <td>248</td>\n",
       "      <td>NaN</td>\n",
       "      <td>647.0</td>\n",
       "    </tr>\n",
       "    <tr>\n",
       "      <th>2017-06-05</th>\n",
       "      <td>265</td>\n",
       "      <td>180</td>\n",
       "      <td>232</td>\n",
       "      <td>NaN</td>\n",
       "      <td>677.0</td>\n",
       "    </tr>\n",
       "    <tr>\n",
       "      <th>2017-06-06</th>\n",
       "      <td>203</td>\n",
       "      <td>138</td>\n",
       "      <td>240</td>\n",
       "      <td>61.0</td>\n",
       "      <td>642.0</td>\n",
       "    </tr>\n",
       "    <tr>\n",
       "      <th>2017-06-07</th>\n",
       "      <td>204</td>\n",
       "      <td>226</td>\n",
       "      <td>137</td>\n",
       "      <td>53.0</td>\n",
       "      <td>620.0</td>\n",
       "    </tr>\n",
       "  </tbody>\n",
       "</table>\n",
       "</div>"
      ],
      "text/plain": [
       "             早餐   午餐   晚餐    飲料     總和\n",
       "2017-06-01  211  211  194  85.0  701.0\n",
       "2017-06-02  159  129  236  47.0  571.0\n",
       "2017-06-03  263  223  166   NaN  652.0\n",
       "2017-06-04  187  212  248   NaN  647.0\n",
       "2017-06-05  265  180  232   NaN  677.0\n",
       "2017-06-06  203  138  240  61.0  642.0\n",
       "2017-06-07  204  226  137  53.0  620.0"
      ]
     },
     "metadata": {},
     "output_type": "display_data"
    }
   ],
   "source": [
    "df2 = pd.DataFrame(np.random.randint(low=40, high=80, size=(7, 1)), index=dates, columns=[u'飲料'])\n",
    "df2.ix['2017-06-01', u'飲料'] = 85\n",
    "df2.ix['2017-06-03':'2017-06-05', u'飲料'] = np.nan\n",
    "display(df2)\n",
    "\n",
    "df3 = pd.concat([df1, df2], axis=1)\n",
    "df3[u'總和'] = df3.sum(axis=1)\n",
    "display(df3) "
   ]
  },
  {
   "cell_type": "code",
   "execution_count": 12,
   "metadata": {
    "collapsed": false
   },
   "outputs": [
    {
     "data": {
      "text/html": [
       "<div>\n",
       "<table border=\"1\" class=\"dataframe\">\n",
       "  <thead>\n",
       "    <tr style=\"text-align: right;\">\n",
       "      <th></th>\n",
       "      <th>早餐</th>\n",
       "      <th>晚餐</th>\n",
       "    </tr>\n",
       "  </thead>\n",
       "  <tbody>\n",
       "    <tr>\n",
       "      <th>2017-06-08</th>\n",
       "      <td>50</td>\n",
       "      <td>100</td>\n",
       "    </tr>\n",
       "  </tbody>\n",
       "</table>\n",
       "</div>"
      ],
      "text/plain": [
       "            早餐   晚餐\n",
       "2017-06-08  50  100"
      ]
     },
     "metadata": {},
     "output_type": "display_data"
    },
    {
     "data": {
      "text/html": [
       "<div>\n",
       "<table border=\"1\" class=\"dataframe\">\n",
       "  <thead>\n",
       "    <tr style=\"text-align: right;\">\n",
       "      <th></th>\n",
       "      <th>午餐</th>\n",
       "      <th>早餐</th>\n",
       "      <th>晚餐</th>\n",
       "      <th>總和</th>\n",
       "      <th>飲料</th>\n",
       "    </tr>\n",
       "  </thead>\n",
       "  <tbody>\n",
       "    <tr>\n",
       "      <th>2017-06-01</th>\n",
       "      <td>211.0</td>\n",
       "      <td>211</td>\n",
       "      <td>194</td>\n",
       "      <td>701.0</td>\n",
       "      <td>85.0</td>\n",
       "    </tr>\n",
       "    <tr>\n",
       "      <th>2017-06-02</th>\n",
       "      <td>129.0</td>\n",
       "      <td>159</td>\n",
       "      <td>236</td>\n",
       "      <td>571.0</td>\n",
       "      <td>47.0</td>\n",
       "    </tr>\n",
       "    <tr>\n",
       "      <th>2017-06-03</th>\n",
       "      <td>223.0</td>\n",
       "      <td>263</td>\n",
       "      <td>166</td>\n",
       "      <td>652.0</td>\n",
       "      <td>NaN</td>\n",
       "    </tr>\n",
       "    <tr>\n",
       "      <th>2017-06-04</th>\n",
       "      <td>212.0</td>\n",
       "      <td>187</td>\n",
       "      <td>248</td>\n",
       "      <td>647.0</td>\n",
       "      <td>NaN</td>\n",
       "    </tr>\n",
       "    <tr>\n",
       "      <th>2017-06-05</th>\n",
       "      <td>180.0</td>\n",
       "      <td>265</td>\n",
       "      <td>232</td>\n",
       "      <td>677.0</td>\n",
       "      <td>NaN</td>\n",
       "    </tr>\n",
       "    <tr>\n",
       "      <th>2017-06-06</th>\n",
       "      <td>138.0</td>\n",
       "      <td>203</td>\n",
       "      <td>240</td>\n",
       "      <td>642.0</td>\n",
       "      <td>61.0</td>\n",
       "    </tr>\n",
       "    <tr>\n",
       "      <th>2017-06-07</th>\n",
       "      <td>226.0</td>\n",
       "      <td>204</td>\n",
       "      <td>137</td>\n",
       "      <td>620.0</td>\n",
       "      <td>53.0</td>\n",
       "    </tr>\n",
       "    <tr>\n",
       "      <th>2017-06-08</th>\n",
       "      <td>NaN</td>\n",
       "      <td>50</td>\n",
       "      <td>100</td>\n",
       "      <td>NaN</td>\n",
       "      <td>NaN</td>\n",
       "    </tr>\n",
       "  </tbody>\n",
       "</table>\n",
       "</div>"
      ],
      "text/plain": [
       "               午餐   早餐   晚餐     總和    飲料\n",
       "2017-06-01  211.0  211  194  701.0  85.0\n",
       "2017-06-02  129.0  159  236  571.0  47.0\n",
       "2017-06-03  223.0  263  166  652.0   NaN\n",
       "2017-06-04  212.0  187  248  647.0   NaN\n",
       "2017-06-05  180.0  265  232  677.0   NaN\n",
       "2017-06-06  138.0  203  240  642.0  61.0\n",
       "2017-06-07  226.0  204  137  620.0  53.0\n",
       "2017-06-08    NaN   50  100    NaN   NaN"
      ]
     },
     "metadata": {},
     "output_type": "display_data"
    },
    {
     "data": {
      "text/html": [
       "<div>\n",
       "<table border=\"1\" class=\"dataframe\">\n",
       "  <thead>\n",
       "    <tr style=\"text-align: right;\">\n",
       "      <th></th>\n",
       "      <th>午餐</th>\n",
       "      <th>早餐</th>\n",
       "      <th>晚餐</th>\n",
       "      <th>總和</th>\n",
       "      <th>飲料</th>\n",
       "    </tr>\n",
       "  </thead>\n",
       "  <tbody>\n",
       "    <tr>\n",
       "      <th>2017-06-01</th>\n",
       "      <td>211.0</td>\n",
       "      <td>211</td>\n",
       "      <td>194</td>\n",
       "      <td>1402.0</td>\n",
       "      <td>85.0</td>\n",
       "    </tr>\n",
       "    <tr>\n",
       "      <th>2017-06-02</th>\n",
       "      <td>129.0</td>\n",
       "      <td>159</td>\n",
       "      <td>236</td>\n",
       "      <td>1142.0</td>\n",
       "      <td>47.0</td>\n",
       "    </tr>\n",
       "    <tr>\n",
       "      <th>2017-06-03</th>\n",
       "      <td>223.0</td>\n",
       "      <td>263</td>\n",
       "      <td>166</td>\n",
       "      <td>1304.0</td>\n",
       "      <td>NaN</td>\n",
       "    </tr>\n",
       "    <tr>\n",
       "      <th>2017-06-04</th>\n",
       "      <td>212.0</td>\n",
       "      <td>187</td>\n",
       "      <td>248</td>\n",
       "      <td>1294.0</td>\n",
       "      <td>NaN</td>\n",
       "    </tr>\n",
       "    <tr>\n",
       "      <th>2017-06-05</th>\n",
       "      <td>180.0</td>\n",
       "      <td>265</td>\n",
       "      <td>232</td>\n",
       "      <td>1354.0</td>\n",
       "      <td>NaN</td>\n",
       "    </tr>\n",
       "    <tr>\n",
       "      <th>2017-06-06</th>\n",
       "      <td>138.0</td>\n",
       "      <td>203</td>\n",
       "      <td>240</td>\n",
       "      <td>1284.0</td>\n",
       "      <td>61.0</td>\n",
       "    </tr>\n",
       "    <tr>\n",
       "      <th>2017-06-07</th>\n",
       "      <td>226.0</td>\n",
       "      <td>204</td>\n",
       "      <td>137</td>\n",
       "      <td>1240.0</td>\n",
       "      <td>53.0</td>\n",
       "    </tr>\n",
       "    <tr>\n",
       "      <th>2017-06-08</th>\n",
       "      <td>NaN</td>\n",
       "      <td>50</td>\n",
       "      <td>100</td>\n",
       "      <td>150.0</td>\n",
       "      <td>NaN</td>\n",
       "    </tr>\n",
       "  </tbody>\n",
       "</table>\n",
       "</div>"
      ],
      "text/plain": [
       "               午餐   早餐   晚餐      總和    飲料\n",
       "2017-06-01  211.0  211  194  1402.0  85.0\n",
       "2017-06-02  129.0  159  236  1142.0  47.0\n",
       "2017-06-03  223.0  263  166  1304.0   NaN\n",
       "2017-06-04  212.0  187  248  1294.0   NaN\n",
       "2017-06-05  180.0  265  232  1354.0   NaN\n",
       "2017-06-06  138.0  203  240  1284.0  61.0\n",
       "2017-06-07  226.0  204  137  1240.0  53.0\n",
       "2017-06-08    NaN   50  100   150.0   NaN"
      ]
     },
     "metadata": {},
     "output_type": "display_data"
    }
   ],
   "source": [
    "df4 = pd.DataFrame({u'早餐':[50], u'晚餐':[100]}, pd.date_range('2017-06-08', periods=1))\n",
    "display(df4)\n",
    "df5 = pd.concat([df3, df4])\n",
    "display(df5)\n",
    "df5[u'總和'] = df5.sum(axis=1)\n",
    "display(df5) "
   ]
  }
 ],
 "metadata": {
  "kernelspec": {
   "display_name": "Python 2",
   "language": "python",
   "name": "python2"
  },
  "language_info": {
   "codemirror_mode": {
    "name": "ipython",
    "version": 2
   },
   "file_extension": ".py",
   "mimetype": "text/x-python",
   "name": "python",
   "nbconvert_exporter": "python",
   "pygments_lexer": "ipython2",
   "version": "2.7.12"
  }
 },
 "nbformat": 4,
 "nbformat_minor": 2
}

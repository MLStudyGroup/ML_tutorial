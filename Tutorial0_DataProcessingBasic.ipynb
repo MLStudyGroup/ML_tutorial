{
 "cells": [
  {
   "cell_type": "code",
   "execution_count": 1,
   "metadata": {},
   "outputs": [
    {
     "name": "stdout",
     "output_type": "stream",
     "text": [
      "[1 2 3 4]\n",
      "(4,)\n",
      "int64\n"
     ]
    }
   ],
   "source": [
    "import numpy as np\n",
    "\n",
    "A = np.array([1, 2, 3, 4])\n",
    "print A\n",
    "print A.shape\n",
    "print A.dtype"
   ]
  },
  {
   "cell_type": "code",
   "execution_count": 2,
   "metadata": {},
   "outputs": [
    {
     "name": "stdout",
     "output_type": "stream",
     "text": [
      "[[ 1.1  2.1  3.1]\n",
      " [ 4.1  5.1  6.1]]\n",
      "(2, 3)\n",
      "float64\n"
     ]
    }
   ],
   "source": [
    "B = np.array([\n",
    "    [1.1, 2.1, 3.1],\n",
    "    [4.1, 5.1, 6.1]\n",
    "])\n",
    "print B\n",
    "print B.shape\n",
    "print B.dtype"
   ]
  },
  {
   "cell_type": "code",
   "execution_count": 3,
   "metadata": {},
   "outputs": [
    {
     "name": "stdout",
     "output_type": "stream",
     "text": [
      "[0 1 2 3]\n",
      "[[0 1]\n",
      " [2 3]]\n",
      "[[ 0.  0.]\n",
      " [ 0.  0.]]\n",
      "[[[0 1]\n",
      "  [2 3]]\n",
      "\n",
      " [[4 5]\n",
      "  [6 7]]]\n"
     ]
    }
   ],
   "source": [
    "print np.arange(4)\n",
    "print np.arange(4).reshape(2, 2)\n",
    "print np.zeros(4).reshape(2, 2)\n",
    "print np.arange(8).reshape(2, 2, 2)"
   ]
  },
  {
   "cell_type": "code",
   "execution_count": 4,
   "metadata": {},
   "outputs": [
    {
     "name": "stdout",
     "output_type": "stream",
     "text": [
      "[[2 4]\n",
      " [6 8]]\n",
      "[[ 0.  2.]\n",
      " [ 3.  4.]]\n",
      "[[ 2.  3.]\n",
      " [ 4.  7.]]\n"
     ]
    }
   ],
   "source": [
    "A = np.arange(start=1, step=1, stop=5).reshape(2, 2)\n",
    "B = np.ones(4).reshape(2, 2)\n",
    "B[0][0] = 0\n",
    "\n",
    "print A * 2\n",
    "print A * B\n",
    "print A.dot(B)"
   ]
  },
  {
   "cell_type": "code",
   "execution_count": 5,
   "metadata": {},
   "outputs": [
    {
     "name": "stdout",
     "output_type": "stream",
     "text": [
      "[[ 0.53902228]\n",
      " [ 0.13386045]\n",
      " [ 0.86478057]]\n",
      "[[64 96]\n",
      " [55 82]]\n",
      "297 55 96 74.25 15.8804124632 1\n",
      "[119 178] [64 55]\n",
      "[[ 8.          9.79795897]\n",
      " [ 7.41619849  9.05538514]]\n"
     ]
    }
   ],
   "source": [
    "A = np.random.random((3, 1))\n",
    "print A\n",
    "A = np.random.randint(low=50, high=100, size=(2, 2))\n",
    "print A\n",
    "print A.sum(), A.min(), A.max(), A.mean(), A.std(), A.argmax()\n",
    "print A.sum(axis=0), A.min(axis=1)\n",
    "print np.sqrt(A)"
   ]
  },
  {
   "cell_type": "code",
   "execution_count": 6,
   "metadata": {},
   "outputs": [
    {
     "name": "stdout",
     "output_type": "stream",
     "text": [
      "[[ 1.  2.]\n",
      " [ 3.  4.]]\n",
      "[[ 1.  3.]\n",
      " [ 2.  4.]]\n",
      "[[ 1.  0.]\n",
      " [ 0.  1.]]\n",
      "[[ 1.  2.]\n",
      " [ 3.  4.]]\n",
      "[[-2.   1. ]\n",
      " [ 1.5 -0.5]]\n",
      "[[-2.   1. ]\n",
      " [ 1.5 -0.5]]\n",
      "5.0\n"
     ]
    }
   ],
   "source": [
    "A = np.array([1, 2, 3, 4], dtype='float64').reshape(2, 2)\n",
    "print A\n",
    "print A.transpose()\n",
    "I = np.eye(2)\n",
    "print I\n",
    "print A.dot(I)\n",
    "A_inv = np.linalg.inv(A)\n",
    "print A_inv\n",
    "print np.linalg.solve(A, I)\n",
    "print A.trace()"
   ]
  },
  {
   "cell_type": "code",
   "execution_count": 7,
   "metadata": {},
   "outputs": [
    {
     "name": "stdout",
     "output_type": "stream",
     "text": [
      "[[8 8]\n",
      " [7 7]]\n",
      "[8 8 7 7]\n"
     ]
    }
   ],
   "source": [
    "x = np.array([8, 8])\n",
    "y = np.array([7 ,7])\n",
    "print np.vstack([x, y])\n",
    "print np.hstack([x, y])\n",
    "# More details : https://docs.scipy.org/doc/numpy/reference/routines.html"
   ]
  }
 ],
 "metadata": {
  "kernelspec": {
   "display_name": "Python 2",
   "language": "python",
   "name": "python2"
  },
  "language_info": {
   "codemirror_mode": {
    "name": "ipython",
    "version": 2
   },
   "file_extension": ".py",
   "mimetype": "text/x-python",
   "name": "python",
   "nbconvert_exporter": "python",
   "pygments_lexer": "ipython2",
   "version": "2.7.11"
  }
 },
 "nbformat": 4,
 "nbformat_minor": 2
}

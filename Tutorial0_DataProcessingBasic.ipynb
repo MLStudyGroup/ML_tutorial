{
 "cells": [
  {
   "cell_type": "code",
   "execution_count": 21,
   "metadata": {},
   "outputs": [
    {
     "name": "stdout",
     "output_type": "stream",
     "text": [
      "[1 2 3 4]\n",
      "(4,)\n",
      "int64\n",
      "<type 'numpy.ndarray'>\n"
     ]
    }
   ],
   "source": [
    "import numpy as np\n",
    "\n",
    "A = np.array([1, 2, 3, 4])\n",
    "print A\n",
    "print A.shape\n",
    "print A.dtype\n",
    "print type(A)"
   ]
  },
  {
   "cell_type": "code",
   "execution_count": 22,
   "metadata": {},
   "outputs": [
    {
     "name": "stdout",
     "output_type": "stream",
     "text": [
      "[[ 1.1  2.1  3.1]\n",
      " [ 4.1  5.1  6.1]]\n",
      "(2, 3)\n",
      "float64\n",
      "<type 'numpy.ndarray'>\n"
     ]
    }
   ],
   "source": [
    "B = np.array([\n",
    "    [1.1, 2.1, 3.1],\n",
    "    [4.1, 5.1, 6.1]\n",
    "])\n",
    "print B\n",
    "print B.shape\n",
    "print B.dtype"
   ]
  },
  {
   "cell_type": "code",
   "execution_count": 3,
   "metadata": {},
   "outputs": [
    {
     "name": "stdout",
     "output_type": "stream",
     "text": [
      "[0 1 2 3]\n",
      "[[0 1]\n",
      " [2 3]]\n",
      "[[ 0.  0.]\n",
      " [ 0.  0.]]\n",
      "[[[0 1]\n",
      "  [2 3]]\n",
      "\n",
      " [[4 5]\n",
      "  [6 7]]]\n"
     ]
    }
   ],
   "source": [
    "print np.arange(4)\n",
    "print np.arange(4).reshape(2, 2)\n",
    "print np.zeros(4).reshape(2, 2)\n",
    "print np.arange(8).reshape(2, 2, 2)"
   ]
  },
  {
   "cell_type": "code",
   "execution_count": 4,
   "metadata": {},
   "outputs": [
    {
     "name": "stdout",
     "output_type": "stream",
     "text": [
      "[[2 4]\n",
      " [6 8]]\n",
      "[[ 0.  2.]\n",
      " [ 3.  4.]]\n",
      "[[ 2.  3.]\n",
      " [ 4.  7.]]\n"
     ]
    }
   ],
   "source": [
    "A = np.arange(start=1, step=1, stop=5).reshape(2, 2)\n",
    "B = np.ones(4).reshape(2, 2)\n",
    "B[0][0] = 0\n",
    "\n",
    "print A * 2\n",
    "print A * B\n",
    "print A.dot(B)"
   ]
  },
  {
   "cell_type": "code",
   "execution_count": 20,
   "metadata": {},
   "outputs": [
    {
     "name": "stdout",
     "output_type": "stream",
     "text": [
      "[[ 0.37057988]\n",
      " [ 0.41510975]\n",
      " [ 0.50947502]]\n",
      "[[97 98]\n",
      " [91 54]]\n",
      "340 54 98 85.0 18.0969610709 1\n",
      "[188 152] [97 54]\n",
      "[[ 9.8488578   9.89949494]\n",
      " [ 9.53939201  7.34846923]]\n",
      "[97 98 91 54]\n",
      "[[97 98]\n",
      " [54 91]]\n",
      "[97 91]\n",
      "[ 0.  0.  0.  0.  0.]\n",
      "[ 3.  3.  3.  3.  3.]\n"
     ]
    }
   ],
   "source": [
    "A = np.random.random((3, 1))\n",
    "print A\n",
    "A = np.random.randint(low=50, high=100, size=(2, 2))\n",
    "print A\n",
    "print A.sum(), A.min(), A.max(), A.mean(), A.std(), A.argmax()\n",
    "print A.sum(axis=0), A.min(axis=1)\n",
    "print np.sqrt(A)\n",
    "print A.flatten()\n",
    "A.sort()\n",
    "print A\n",
    "print A.diagonal()"
   ]
  },
  {
   "cell_type": "code",
   "execution_count": 6,
   "metadata": {},
   "outputs": [
    {
     "name": "stdout",
     "output_type": "stream",
     "text": [
      "[[ 1.  2.]\n",
      " [ 3.  4.]]\n",
      "[[ 1.  3.]\n",
      " [ 2.  4.]]\n",
      "[[ 1.  0.]\n",
      " [ 0.  1.]]\n",
      "[[ 1.  2.]\n",
      " [ 3.  4.]]\n",
      "[[-2.   1. ]\n",
      " [ 1.5 -0.5]]\n",
      "[[-2.   1. ]\n",
      " [ 1.5 -0.5]]\n",
      "5.0\n"
     ]
    }
   ],
   "source": [
    "A = np.array([1, 2, 3, 4], dtype='float64').reshape(2, 2)\n",
    "print A\n",
    "print A.T\n",
    "I = np.eye(2)\n",
    "print I\n",
    "print A.dot(I)\n",
    "A_inv = np.linalg.inv(A)\n",
    "print A_inv\n",
    "print np.linalg.solve(A, I)\n",
    "print A.trace()"
   ]
  },
  {
   "cell_type": "code",
   "execution_count": 7,
   "metadata": {},
   "outputs": [
    {
     "name": "stdout",
     "output_type": "stream",
     "text": [
      "[[8 8]\n",
      " [7 7]]\n",
      "[8 8 7 7]\n"
     ]
    }
   ],
   "source": [
    "x = np.array([8, 8])\n",
    "y = np.array([7 ,7])\n",
    "print np.vstack([x, y])\n",
    "print np.hstack([x, y])\n",
    "# More details : https://docs.scipy.org/doc/numpy/reference/routines.html"
   ]
  },
  {
   "cell_type": "code",
   "execution_count": 39,
   "metadata": {},
   "outputs": [
    {
     "name": "stdout",
     "output_type": "stream",
     "text": [
      "0    0\n",
      "1    1\n",
      "2    2\n",
      "3    3\n",
      "4    4\n",
      "5    5\n",
      "6    6\n",
      "7    7\n",
      "8    8\n",
      "9    9\n",
      "dtype: int64\n",
      "DatetimeIndex(['2017-06-01', '2017-06-02', '2017-06-03', '2017-06-04',\n",
      "               '2017-06-05', '2017-06-06', '2017-06-07'],\n",
      "              dtype='datetime64[ns]', freq='D')\n",
      "    A   B   C   D   E\n",
      "0   0   1   2   3   4\n",
      "1   5   6   7   8   9\n",
      "2  10  11  12  13  14\n",
      "3  15  16  17  18  19\n",
      "4  20  21  22  23  24\n",
      "    A   C\n",
      "0   0   2\n",
      "1   5   7\n",
      "2  10  12\n",
      "3  15  17\n",
      "4  20  22\n",
      "    A   B   C   D   E\n",
      "0   2   1   0   3   4\n",
      "1   7   6   5   8   9\n",
      "2  12  11  10  13  14\n",
      "3  17  16  15  18  19\n",
      "4  22  21  20  23  24\n",
      "    A   B   C   D   E\n",
      "2  12  11  10  13  14\n",
      "3  17  16  15  18  19\n",
      "4  22  21  20  23  24\n",
      "    A   B   C   D   E\n",
      "2  12  11  10  13  14\n"
     ]
    }
   ],
   "source": [
    "import pandas as pd\n",
    "\n",
    "print pd.Series(np.arange(10))\n",
    "print pd.date_range('2017-06-01', periods=7)\n",
    "df = pd.DataFrame(np.arange(25).reshape(5,5), columns=['A', 'B', 'C', 'D', 'E'])\n",
    "print df\n",
    "print df[['A','C']]\n",
    "df[['A', 'C']] = df[['C', 'A']]\n",
    "print df\n",
    "print df[df['A'] > 10]\n",
    "print df[(df['A'] > 10) & (df['C'] < 15)]"
   ]
  },
  {
   "cell_type": "code",
   "execution_count": 46,
   "metadata": {},
   "outputs": [
    {
     "name": "stdout",
     "output_type": "stream",
     "text": [
      "             早餐   午餐   晚餐\n",
      "2017-06-01  222  163  126\n",
      "2017-06-02  226  178  107\n",
      "2017-06-03  104  139  222\n",
      "2017-06-04  205  196  256\n",
      "2017-06-05  228  169  168\n",
      "2017-06-06  268  280  138\n",
      "2017-06-07  268  126  115\n",
      "早餐    1521\n",
      "午餐    1251\n",
      "晚餐    1132\n",
      "dtype: int64\n"
     ]
    }
   ],
   "source": [
    "dates = pd.date_range('2017-06-01', periods=7)\n",
    "df = pd.DataFrame(np.random.randint(low=100, high=300, size=(7, 3)), index=dates, columns=[u'早餐', u'午餐', u'晚餐'])\n",
    "print df\n",
    "print df.sum()"
   ]
  }
 ],
 "metadata": {
  "kernelspec": {
   "display_name": "Python 2",
   "language": "python",
   "name": "python2"
  },
  "language_info": {
   "codemirror_mode": {
    "name": "ipython",
    "version": 2
   },
   "file_extension": ".py",
   "mimetype": "text/x-python",
   "name": "python",
   "nbconvert_exporter": "python",
   "pygments_lexer": "ipython2",
   "version": "2.7.11"
  }
 },
 "nbformat": 4,
 "nbformat_minor": 2
}
